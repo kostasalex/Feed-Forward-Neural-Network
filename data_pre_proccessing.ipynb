{
  "cells": [
    {
      "cell_type": "markdown",
      "metadata": {
        "id": "f9B1k1uKUDtY"
      },
      "source": [
        "\n",
        "\n",
        "\n",
        "#Data pre-processing\n",
        "\n",
        "Data preprocessing techniques that are applied to prepare the data for training a natural language processing model. \n",
        "* Clean the data by removing any unnecessary information such as HTML tags. \n",
        "* Lemmatization for improved NLP performance. \n",
        "* Use pre-trained Glove Vector to convert the text into numerical representations, which are then used as input for the model."
      ]
    },
    {
      "cell_type": "code",
      "execution_count": 31,
      "metadata": {
        "colab": {
          "base_uri": "https://localhost:8080/"
        },
        "id": "smiNOdXTUyBZ",
        "outputId": "d5a87180-14b2-467f-a13a-b11bb35521c0"
      },
      "outputs": [
        {
          "output_type": "stream",
          "name": "stdout",
          "text": [
            "Drive already mounted at /content/drive; to attempt to forcibly remount, call drive.mount(\"/content/drive\", force_remount=True).\n"
          ]
        }
      ],
      "source": [
        "import pandas as pd\n",
        "import numpy as np\n",
        "import io\n",
        "from google.colab import drive\n",
        "drive.mount('/content/drive')"
      ]
    },
    {
      "cell_type": "markdown",
      "metadata": {
        "id": "M8SYbB7EVdGx"
      },
      "source": [
        "\n",
        "\n",
        "\n",
        "##Load dataset \n",
        "\n",
        "\n",
        "\n",
        "---\n",
        "\n",
        "\n",
        "\n",
        "\n",
        "\n",
        "\n"
      ]
    },
    {
      "cell_type": "code",
      "execution_count": 32,
      "metadata": {
        "colab": {
          "base_uri": "https://localhost:8080/",
          "height": 363
        },
        "id": "kwfYxCSlVcr5",
        "outputId": "78325a44-7bec-4d42-ea08-2f23a0634d89"
      },
      "outputs": [
        {
          "output_type": "execute_result",
          "data": {
            "text/plain": [
              "       rating                                             review\n",
              "20466     7.0  algernon4's comment that Ms Paget's \"ultra lew...\n",
              "10806    10.0  I saw this movie in sixth grade around Christm...\n",
              "7194      4.0  This relatively obscure Hong Kong \"minorpiece\"...\n",
              "17495     3.0  The complaints are valid, to me the biggest pr...\n",
              "23685     2.0  I cannot believe the number of people referrin...\n",
              "15862     3.0  This movie was so poorly written and directed ...\n",
              "6197      2.0  The only interesting part of this movie was it...\n",
              "39993     7.0  Asterix and the Vikings is the first animated ...\n",
              "19108     9.0  After gorging myself on a variety of seemingly...\n",
              "25681     7.0  ------ Spoilers----- Spoilers----- Spoilers---..."
            ],
            "text/html": [
              "\n",
              "  <div id=\"df-4e966c1d-6d45-49bb-b51e-6146762cd92b\">\n",
              "    <div class=\"colab-df-container\">\n",
              "      <div>\n",
              "<style scoped>\n",
              "    .dataframe tbody tr th:only-of-type {\n",
              "        vertical-align: middle;\n",
              "    }\n",
              "\n",
              "    .dataframe tbody tr th {\n",
              "        vertical-align: top;\n",
              "    }\n",
              "\n",
              "    .dataframe thead th {\n",
              "        text-align: right;\n",
              "    }\n",
              "</style>\n",
              "<table border=\"1\" class=\"dataframe\">\n",
              "  <thead>\n",
              "    <tr style=\"text-align: right;\">\n",
              "      <th></th>\n",
              "      <th>rating</th>\n",
              "      <th>review</th>\n",
              "    </tr>\n",
              "  </thead>\n",
              "  <tbody>\n",
              "    <tr>\n",
              "      <th>20466</th>\n",
              "      <td>7.0</td>\n",
              "      <td>algernon4's comment that Ms Paget's \"ultra lew...</td>\n",
              "    </tr>\n",
              "    <tr>\n",
              "      <th>10806</th>\n",
              "      <td>10.0</td>\n",
              "      <td>I saw this movie in sixth grade around Christm...</td>\n",
              "    </tr>\n",
              "    <tr>\n",
              "      <th>7194</th>\n",
              "      <td>4.0</td>\n",
              "      <td>This relatively obscure Hong Kong \"minorpiece\"...</td>\n",
              "    </tr>\n",
              "    <tr>\n",
              "      <th>17495</th>\n",
              "      <td>3.0</td>\n",
              "      <td>The complaints are valid, to me the biggest pr...</td>\n",
              "    </tr>\n",
              "    <tr>\n",
              "      <th>23685</th>\n",
              "      <td>2.0</td>\n",
              "      <td>I cannot believe the number of people referrin...</td>\n",
              "    </tr>\n",
              "    <tr>\n",
              "      <th>15862</th>\n",
              "      <td>3.0</td>\n",
              "      <td>This movie was so poorly written and directed ...</td>\n",
              "    </tr>\n",
              "    <tr>\n",
              "      <th>6197</th>\n",
              "      <td>2.0</td>\n",
              "      <td>The only interesting part of this movie was it...</td>\n",
              "    </tr>\n",
              "    <tr>\n",
              "      <th>39993</th>\n",
              "      <td>7.0</td>\n",
              "      <td>Asterix and the Vikings is the first animated ...</td>\n",
              "    </tr>\n",
              "    <tr>\n",
              "      <th>19108</th>\n",
              "      <td>9.0</td>\n",
              "      <td>After gorging myself on a variety of seemingly...</td>\n",
              "    </tr>\n",
              "    <tr>\n",
              "      <th>25681</th>\n",
              "      <td>7.0</td>\n",
              "      <td>------ Spoilers----- Spoilers----- Spoilers---...</td>\n",
              "    </tr>\n",
              "  </tbody>\n",
              "</table>\n",
              "</div>\n",
              "      <button class=\"colab-df-convert\" onclick=\"convertToInteractive('df-4e966c1d-6d45-49bb-b51e-6146762cd92b')\"\n",
              "              title=\"Convert this dataframe to an interactive table.\"\n",
              "              style=\"display:none;\">\n",
              "        \n",
              "  <svg xmlns=\"http://www.w3.org/2000/svg\" height=\"24px\"viewBox=\"0 0 24 24\"\n",
              "       width=\"24px\">\n",
              "    <path d=\"M0 0h24v24H0V0z\" fill=\"none\"/>\n",
              "    <path d=\"M18.56 5.44l.94 2.06.94-2.06 2.06-.94-2.06-.94-.94-2.06-.94 2.06-2.06.94zm-11 1L8.5 8.5l.94-2.06 2.06-.94-2.06-.94L8.5 2.5l-.94 2.06-2.06.94zm10 10l.94 2.06.94-2.06 2.06-.94-2.06-.94-.94-2.06-.94 2.06-2.06.94z\"/><path d=\"M17.41 7.96l-1.37-1.37c-.4-.4-.92-.59-1.43-.59-.52 0-1.04.2-1.43.59L10.3 9.45l-7.72 7.72c-.78.78-.78 2.05 0 2.83L4 21.41c.39.39.9.59 1.41.59.51 0 1.02-.2 1.41-.59l7.78-7.78 2.81-2.81c.8-.78.8-2.07 0-2.86zM5.41 20L4 18.59l7.72-7.72 1.47 1.35L5.41 20z\"/>\n",
              "  </svg>\n",
              "      </button>\n",
              "      \n",
              "  <style>\n",
              "    .colab-df-container {\n",
              "      display:flex;\n",
              "      flex-wrap:wrap;\n",
              "      gap: 12px;\n",
              "    }\n",
              "\n",
              "    .colab-df-convert {\n",
              "      background-color: #E8F0FE;\n",
              "      border: none;\n",
              "      border-radius: 50%;\n",
              "      cursor: pointer;\n",
              "      display: none;\n",
              "      fill: #1967D2;\n",
              "      height: 32px;\n",
              "      padding: 0 0 0 0;\n",
              "      width: 32px;\n",
              "    }\n",
              "\n",
              "    .colab-df-convert:hover {\n",
              "      background-color: #E2EBFA;\n",
              "      box-shadow: 0px 1px 2px rgba(60, 64, 67, 0.3), 0px 1px 3px 1px rgba(60, 64, 67, 0.15);\n",
              "      fill: #174EA6;\n",
              "    }\n",
              "\n",
              "    [theme=dark] .colab-df-convert {\n",
              "      background-color: #3B4455;\n",
              "      fill: #D2E3FC;\n",
              "    }\n",
              "\n",
              "    [theme=dark] .colab-df-convert:hover {\n",
              "      background-color: #434B5C;\n",
              "      box-shadow: 0px 1px 3px 1px rgba(0, 0, 0, 0.15);\n",
              "      filter: drop-shadow(0px 1px 2px rgba(0, 0, 0, 0.3));\n",
              "      fill: #FFFFFF;\n",
              "    }\n",
              "  </style>\n",
              "\n",
              "      <script>\n",
              "        const buttonEl =\n",
              "          document.querySelector('#df-4e966c1d-6d45-49bb-b51e-6146762cd92b button.colab-df-convert');\n",
              "        buttonEl.style.display =\n",
              "          google.colab.kernel.accessAllowed ? 'block' : 'none';\n",
              "\n",
              "        async function convertToInteractive(key) {\n",
              "          const element = document.querySelector('#df-4e966c1d-6d45-49bb-b51e-6146762cd92b');\n",
              "          const dataTable =\n",
              "            await google.colab.kernel.invokeFunction('convertToInteractive',\n",
              "                                                     [key], {});\n",
              "          if (!dataTable) return;\n",
              "\n",
              "          const docLinkHtml = 'Like what you see? Visit the ' +\n",
              "            '<a target=\"_blank\" href=https://colab.research.google.com/notebooks/data_table.ipynb>data table notebook</a>'\n",
              "            + ' to learn more about interactive tables.';\n",
              "          element.innerHTML = '';\n",
              "          dataTable['output_type'] = 'display_data';\n",
              "          await google.colab.output.renderOutput(dataTable, element);\n",
              "          const docLink = document.createElement('div');\n",
              "          docLink.innerHTML = docLinkHtml;\n",
              "          element.appendChild(docLink);\n",
              "        }\n",
              "      </script>\n",
              "    </div>\n",
              "  </div>\n",
              "  "
            ]
          },
          "metadata": {},
          "execution_count": 32
        }
      ],
      "source": [
        "path = \"/content/drive/My Drive/data/imdb-reviews.csv\"\n",
        "df = pd.read_csv(path, sep='\\t') \n",
        "\n",
        "#Display randomly 10 rows of 2 last columns (rating, review)\n",
        "df.iloc[:,-2:].sample(n=10)"
      ]
    },
    {
      "cell_type": "markdown",
      "metadata": {
        "id": "GYMLUPM1bwG_"
      },
      "source": [
        "\n",
        "\n",
        "\n",
        "\n",
        "\n",
        "##Data Cleaning\n",
        "\n",
        "\n",
        "---\n",
        "\n"
      ]
    },
    {
      "cell_type": "markdown",
      "metadata": {
        "id": "pVkEIEu26Kn6"
      },
      "source": [
        "*Example before cleaning:*\n",
        "\n",
        "\n",
        "\n",
        "\n",
        "\n"
      ]
    },
    {
      "cell_type": "code",
      "execution_count": 33,
      "metadata": {
        "colab": {
          "base_uri": "https://localhost:8080/",
          "height": 71
        },
        "id": "cqF2iMamweOr",
        "outputId": "d18709cc-6205-45de-8118-16ba621ba884"
      },
      "outputs": [
        {
          "output_type": "execute_result",
          "data": {
            "text/plain": [
              "'This series has recently been unearthed and excerpts can be seen, at least within Britain, via http://www.screenonline.org.uk/tv/id/527213/index.html Presumably there is some hope that the series may eventually become available more widely. The problem is that this series was followed by the series THE WARS OF THE ROSES that had a similarly stellar cast and which has been available to cable TV, or at least crowding the market. <br /><br />The two series are quite different in dramaturgy; THE WARS consolidates the plays through extensive rewriting and shifting of scenes; AN AGE OF KINGS follows Shakespeare more closely. Both series benefit from integral casting.'"
            ],
            "application/vnd.google.colaboratory.intrinsic+json": {
              "type": "string"
            }
          },
          "metadata": {},
          "execution_count": 33
        }
      ],
      "source": [
        "df.review[2240]"
      ]
    },
    {
      "cell_type": "markdown",
      "metadata": {
        "id": "fodo7rkU6Ry5"
      },
      "source": [
        "*Cleaning the data..*"
      ]
    },
    {
      "cell_type": "code",
      "execution_count": 34,
      "metadata": {
        "id": "28ge_vOHbuIP"
      },
      "outputs": [],
      "source": [
        "import re\n",
        "\n",
        "tag_re = re.compile(r'<[^>]+>')\n",
        "\n",
        "def remove_tags_and_links(text):\n",
        "    clean = re.compile('<.*?>|http\\S+')\n",
        "    return re.sub(clean, '', text)\n",
        "    \n",
        "\n",
        "def textPreprocess(text):\n",
        "  \n",
        "  #remove numbers and Punctuations\n",
        "  text = re.sub('[^A-Za-z ]', '', text) \n",
        "  text = remove_tags_and_links(text)\n",
        "  #lowercase\n",
        "  text = text.lower()\n",
        "\n",
        "  return text\n",
        "\n",
        "df.review = df.review.apply(textPreprocess)"
      ]
    },
    {
      "cell_type": "markdown",
      "metadata": {
        "id": "qEpIBOJP3sgW"
      },
      "source": [
        "*Example* after cleaning:"
      ]
    },
    {
      "cell_type": "code",
      "execution_count": 35,
      "metadata": {
        "colab": {
          "base_uri": "https://localhost:8080/",
          "height": 71
        },
        "id": "14BcJCmp3z9K",
        "outputId": "39757cd4-482e-4176-d1bf-f8b362d979f2"
      },
      "outputs": [
        {
          "output_type": "execute_result",
          "data": {
            "text/plain": [
              "'this series has recently been unearthed and excerpts can be seen at least within britain via  presumably there is some hope that the series may eventually become available more widely the problem is that this series was followed by the series the wars of the roses that had a similarly stellar cast and which has been available to cable tv or at least crowding the market br br the two series are quite different in dramaturgy the wars consolidates the plays through extensive rewriting and shifting of scenes an age of kings follows shakespeare more closely both series benefit from integral casting'"
            ],
            "application/vnd.google.colaboratory.intrinsic+json": {
              "type": "string"
            }
          },
          "metadata": {},
          "execution_count": 35
        }
      ],
      "source": [
        "df.review[2240]"
      ]
    },
    {
      "cell_type": "markdown",
      "metadata": {
        "id": "1WmNilxA7K0z"
      },
      "source": [
        "##Tokenization and Lemmanization with removed stopwords\n",
        ">* The process of tokenization and lemmatization is applied to break down the text into individual words and to reduce them to their base or root form. For example, the word \"running\" would be reduced to its base form \"run\", which will help to reduce the dimensionality of the data and improve the performance of the NLP model.\n",
        "* To improve the accuracy of the lemmatization process:\n",
        "  * POS tagging step added.The pos_tag() function uses the Averaged Perceptron Tagger, which is a machine learning based tagger trained on the Penn Treebank corpus, which is considered as a standard dataset for POS tagging.\n",
        "  * Additionally, the code is using the WordNetLemmatizer function from NLTK, which uses the WordNet lexical database to determine the lemma of a word. WordNet is a large lexical database of English and it is used to help the lemmatization step to decide the correct base form of a word."
      ]
    },
    {
      "cell_type": "code",
      "execution_count": 36,
      "metadata": {
        "colab": {
          "base_uri": "https://localhost:8080/"
        },
        "id": "PmT--LEZVkz0",
        "outputId": "182fe64a-ba61-405b-9658-3c2d657a57ec"
      },

      "source": [
        "import nltk\n",
        "nltk.download('omw-1.4')\n",
        "from nltk.tokenize import WhitespaceTokenizer\n",
        "from nltk.corpus import wordnet\n",
        "\n",
        "nltk.download('punkt')\n",
        "nltk.download('averaged_perceptron_tagger')\n",
        "nltk.download('stopwords')\n",
        "nltk.download('wordnet')\n",
        "\n",
        "stop_words = nltk.corpus.stopwords.words('english')\n",
        "lemmatizer = nltk.stem.WordNetLemmatizer()\n",
        "\n",
        "def get_wordnet_pos(word):\n",
        "    tag = nltk.pos_tag([word])[0][1][0].upper()\n",
        "    tag_dict = {\"J\": wordnet.ADJ,\n",
        "                \"N\": wordnet.NOUN,\n",
        "                \"V\": wordnet.VERB,\n",
        "                \"R\": wordnet.ADV}\n",
        "    return tag_dict.get(tag, wordnet.NOUN)\n",
        "\n",
        "def tokenization_lemmatization(text):\n",
        "    # Tokenize the text\n",
        "    tokens = nltk.word_tokenize(text)\n",
        "    #Remove stop words\n",
        "    tokens = [token for token in tokens if token.lower() not in stop_words]\n",
        "    # POS tagging\n",
        "    pos_tokens = nltk.pos_tag(tokens)\n",
        "    # Lemmatize the tokens\n",
        "    lemmatized_tokens = [lemmatizer.lemmatize(token, get_wordnet_pos(token)) for token, pos in pos_tokens]\n",
        "    return ' '.join(lemmatized_tokens)\n",
        "\n",
        "df.review = df.review.apply(tokenization_lemmatization)\n"
      ]
    },
    {
      "cell_type": "markdown",
      "metadata": {
        "id": "OqSotssXD2PP"
      },
      "source": [
        "*Example after lemmatization:*"
      ]
    },
    {
      "cell_type": "code",
      "execution_count": 37,
      "metadata": {
        "colab": {
          "base_uri": "https://localhost:8080/",
          "height": 53
        },
        "id": "NUnpqh3MGb-V",
        "outputId": "939fd251-6014-4789-be56-3441797618ce"
      },
      "outputs": [
        {
          "output_type": "execute_result",
          "data": {
            "text/plain": [
              "'series recently unearthed excerpt see least within britain via presumably hope series may eventually become available widely problem series follow series war rose similarly stellar cast available cable tv least crowd market br br two series quite different dramaturgy war consolidates play extensive rewrite shift scene age king follow shakespeare closely series benefit integral cast'"
            ],
            "application/vnd.google.colaboratory.intrinsic+json": {
              "type": "string"
            }
          },
          "metadata": {},
          "execution_count": 37
        }
      ],
      "source": [
        "df.review[2240]"
      ]
    },
    {
      "cell_type": "markdown",
      "metadata": {
        "id": "IX03C9IVEHQ9"
      },
      "source": [
        "##Vectorization using Glove\n",
        "\n",
        "\n",
        "---\n",
        "\n"
      ]
    },
    {
      "cell_type": "markdown",
      "metadata": {
        "id": "CPyIqlv4I8c0"
      },
      "source": [
        "###Load the GloVe vectors into a dictionary and map words to their represantions"
      ]
    },
    {
      "cell_type": "code",
      "execution_count": 38,
      "metadata": {
        "id": "mTIcCW2UI0JX"
      },
      "outputs": [],
      "source": [
        "#Each line of the file contains a word, followed by 50 numbers\n",
        "path = \"/content/drive/My Drive/data/glove.6B.50d.txt\"\n",
        "glove_vectors = {}\n",
        "with open(path, 'r') as f:\n",
        "  for line in f:\n",
        "    parts = line.split()\n",
        "    word = parts[0]\n",
        "    vector = np.array(parts[1:], dtype=np.float32)\n",
        "    glove_vectors[word] = vector"
      ]
    },
    {
      "cell_type": "markdown",
      "metadata": {
        "id": "_WUA0gEzLOUl"
      },
      "source": [
        "###Create the word embeddings using the GloVe vectors"
      ]
    },
    {
      "cell_type": "code",
      "execution_count": 40,
      "metadata": {
        "id": "dMZQUeeBK2lR"
      },
      "outputs": [],
      "source": [
        "#words_found = 0\n",
        "def generate_review_embeddings(review, glove_vectors, vector_size):\n",
        "\n",
        "  tokens = nltk.word_tokenize(review)\n",
        "  #Set to zero in case of a word not present in glove_vectors\n",
        "  review_embeddings = np.zeros((vector_size,))\n",
        "  for token in tokens:\n",
        "    if token in glove_vectors:\n",
        "      review_embeddings += glove_vectors[token]\n",
        "      #words_found +=1\n",
        "  #Return the average of the review embeddings\n",
        "  return review_embeddings / len(tokens)\n",
        "\n",
        "#Generate word embeddings for each review in the dataset\n",
        "df['embeddings'] = df['review'].apply(lambda x: generate_review_embeddings(x, glove_vectors, vector_size=50))"
      ]
    },
    {
      "cell_type": "markdown",
      "metadata": {
        "id": "3ifwnI0RxDFq"
      },
      "source": [
        "##Save the data\n"
      ]
    },
    {
      "cell_type": "markdown",
      "metadata": {
        "id": "ocR3VVDxysLn"
      },
      "source": [
        "### Prepare the dataset\n",
        ">Using the naming convention \"text\" for input and \"label\" for output, and remove all other columns to keep only this two columns for use in the NLP Model."
      ]
    },
    {
      "cell_type": "code",
      "execution_count": 41,
      "metadata": {
        "colab": {
          "base_uri": "https://localhost:8080/"
        },
        "id": "vs4nFwgdz_SH",
        "outputId": "3cdeb7e3-5e2e-451a-af5d-cc5b10fedec5"
      },
      "outputs": [
        {
          "output_type": "execute_result",
          "data": {
            "text/plain": [
              "positive    22508\n",
              "negative    22500\n",
              "Name: label, dtype: int64"
            ]
          },
          "metadata": {},
          "execution_count": 41
        }
      ],
      "source": [
        "#Convert the list of embeddings to a numpy array\n",
        "df['text'] = np.array(df['embeddings'])\n",
        "#Convert the the rating column to positive/negative and save the processing data.\n",
        "df['label'] = df['rating'].apply(lambda x: 'positive' if x >= 5 else 'negative')\n",
        "#Drop all other columns\n",
        "df = df[['text','label']]\n",
        "df.head()\n",
        "df['label'].value_counts()"
      ]
    },
    {
      "cell_type": "markdown",
      "metadata": {
        "id": "n7q62u-o0LBv"
      },
      "source": [
        "### Saving preprocessed data"
      ]
    },
    {
      "cell_type": "code",
      "execution_count": 42,
      "metadata": {
        "colab": {
          "base_uri": "https://localhost:8080/"
        },
        "id": "DWKTVeV60a3m",
        "outputId": "fa0ba1e2-7b09-4ac0-ecc9-4ead827e0b16"
      },
      "outputs": [
        {
          "output_type": "stream",
          "name": "stderr",
          "text": [
            "<ipython-input-42-292fbd49c37f>:2: SettingWithCopyWarning: \n",
            "A value is trying to be set on a copy of a slice from a DataFrame.\n",
            "Try using .loc[row_indexer,col_indexer] = value instead\n",
            "\n",
            "See the caveats in the documentation: https://pandas.pydata.org/pandas-docs/stable/user_guide/indexing.html#returning-a-view-versus-a-copy\n",
            "  df['label'] = df['label'].apply(lambda x: \"positive\" if x == 1 else \"negative\")\n"
          ]
        },
        {
          "output_type": "execute_result",
          "data": {
            "text/plain": [
              "<function BufferedWriter.close>"
            ]
          },
          "metadata": {},
          "execution_count": 42
        }
      ],
      "source": [
        "import pickle\n",
        "df['label'] = df['label'].apply(lambda x: \"positive\" if x == 1 else \"negative\")\n",
        "with open('/content/drive/My Drive/data/pre_data.pkl', 'wb') as f:\n",
        "  pickle.dump(df, f)\n",
        "f.close"
      ]
    },
    {
      "cell_type": "code",
      "execution_count": 43,
      "metadata": {
        "id": "4kRhgeOmW5QC",
        "colab": {
          "base_uri": "https://localhost:8080/",
          "height": 424
        },
        "outputId": "fd21bcb4-b123-47de-de4e-42f046600cfc"
      },
      "outputs": [
        {
          "output_type": "execute_result",
          "data": {
            "text/plain": [
              "                                                    text     label\n",
              "0      [0.025679750523219507, 0.3064883647797008, -0....  negative\n",
              "1      [0.10050697626265724, 0.3647341652077089, -0.0...  negative\n",
              "2      [0.12732792873824134, 0.20976997845712195, -0....  negative\n",
              "3      [0.1396960578960716, 0.10605007202830166, -0.0...  negative\n",
              "4      [0.13701498769766207, 0.1530708866872038, -0.0...  negative\n",
              "...                                                  ...       ...\n",
              "45003  [0.19379462649076418, -0.07134693995479266, -0...  negative\n",
              "45004  [0.082541145356511, 0.10408829985214259, -0.07...  negative\n",
              "45005  [0.12884820096549535, -0.012841832808529336, 0...  negative\n",
              "45006  [0.03857534694852251, 0.035725512936937084, -0...  negative\n",
              "45007  [0.0759069000561233, 0.16887385642592923, -0.1...  negative\n",
              "\n",
              "[45008 rows x 2 columns]"
            ],
            "text/html": [
              "\n",
              "  <div id=\"df-92e6b451-2f8f-4b46-a500-b1a2d358b12c\">\n",
              "    <div class=\"colab-df-container\">\n",
              "      <div>\n",
              "<style scoped>\n",
              "    .dataframe tbody tr th:only-of-type {\n",
              "        vertical-align: middle;\n",
              "    }\n",
              "\n",
              "    .dataframe tbody tr th {\n",
              "        vertical-align: top;\n",
              "    }\n",
              "\n",
              "    .dataframe thead th {\n",
              "        text-align: right;\n",
              "    }\n",
              "</style>\n",
              "<table border=\"1\" class=\"dataframe\">\n",
              "  <thead>\n",
              "    <tr style=\"text-align: right;\">\n",
              "      <th></th>\n",
              "      <th>text</th>\n",
              "      <th>label</th>\n",
              "    </tr>\n",
              "  </thead>\n",
              "  <tbody>\n",
              "    <tr>\n",
              "      <th>0</th>\n",
              "      <td>[0.025679750523219507, 0.3064883647797008, -0....</td>\n",
              "      <td>negative</td>\n",
              "    </tr>\n",
              "    <tr>\n",
              "      <th>1</th>\n",
              "      <td>[0.10050697626265724, 0.3647341652077089, -0.0...</td>\n",
              "      <td>negative</td>\n",
              "    </tr>\n",
              "    <tr>\n",
              "      <th>2</th>\n",
              "      <td>[0.12732792873824134, 0.20976997845712195, -0....</td>\n",
              "      <td>negative</td>\n",
              "    </tr>\n",
              "    <tr>\n",
              "      <th>3</th>\n",
              "      <td>[0.1396960578960716, 0.10605007202830166, -0.0...</td>\n",
              "      <td>negative</td>\n",
              "    </tr>\n",
              "    <tr>\n",
              "      <th>4</th>\n",
              "      <td>[0.13701498769766207, 0.1530708866872038, -0.0...</td>\n",
              "      <td>negative</td>\n",
              "    </tr>\n",
              "    <tr>\n",
              "      <th>...</th>\n",
              "      <td>...</td>\n",
              "      <td>...</td>\n",
              "    </tr>\n",
              "    <tr>\n",
              "      <th>45003</th>\n",
              "      <td>[0.19379462649076418, -0.07134693995479266, -0...</td>\n",
              "      <td>negative</td>\n",
              "    </tr>\n",
              "    <tr>\n",
              "      <th>45004</th>\n",
              "      <td>[0.082541145356511, 0.10408829985214259, -0.07...</td>\n",
              "      <td>negative</td>\n",
              "    </tr>\n",
              "    <tr>\n",
              "      <th>45005</th>\n",
              "      <td>[0.12884820096549535, -0.012841832808529336, 0...</td>\n",
              "      <td>negative</td>\n",
              "    </tr>\n",
              "    <tr>\n",
              "      <th>45006</th>\n",
              "      <td>[0.03857534694852251, 0.035725512936937084, -0...</td>\n",
              "      <td>negative</td>\n",
              "    </tr>\n",
              "    <tr>\n",
              "      <th>45007</th>\n",
              "      <td>[0.0759069000561233, 0.16887385642592923, -0.1...</td>\n",
              "      <td>negative</td>\n",
              "    </tr>\n",
              "  </tbody>\n",
              "</table>\n",
              "<p>45008 rows × 2 columns</p>\n",
              "</div>\n",
              "      <button class=\"colab-df-convert\" onclick=\"convertToInteractive('df-92e6b451-2f8f-4b46-a500-b1a2d358b12c')\"\n",
              "              title=\"Convert this dataframe to an interactive table.\"\n",
              "              style=\"display:none;\">\n",
              "        \n",
              "  <svg xmlns=\"http://www.w3.org/2000/svg\" height=\"24px\"viewBox=\"0 0 24 24\"\n",
              "       width=\"24px\">\n",
              "    <path d=\"M0 0h24v24H0V0z\" fill=\"none\"/>\n",
              "    <path d=\"M18.56 5.44l.94 2.06.94-2.06 2.06-.94-2.06-.94-.94-2.06-.94 2.06-2.06.94zm-11 1L8.5 8.5l.94-2.06 2.06-.94-2.06-.94L8.5 2.5l-.94 2.06-2.06.94zm10 10l.94 2.06.94-2.06 2.06-.94-2.06-.94-.94-2.06-.94 2.06-2.06.94z\"/><path d=\"M17.41 7.96l-1.37-1.37c-.4-.4-.92-.59-1.43-.59-.52 0-1.04.2-1.43.59L10.3 9.45l-7.72 7.72c-.78.78-.78 2.05 0 2.83L4 21.41c.39.39.9.59 1.41.59.51 0 1.02-.2 1.41-.59l7.78-7.78 2.81-2.81c.8-.78.8-2.07 0-2.86zM5.41 20L4 18.59l7.72-7.72 1.47 1.35L5.41 20z\"/>\n",
              "  </svg>\n",
              "      </button>\n",
              "      \n",
              "  <style>\n",
              "    .colab-df-container {\n",
              "      display:flex;\n",
              "      flex-wrap:wrap;\n",
              "      gap: 12px;\n",
              "    }\n",
              "\n",
              "    .colab-df-convert {\n",
              "      background-color: #E8F0FE;\n",
              "      border: none;\n",
              "      border-radius: 50%;\n",
              "      cursor: pointer;\n",
              "      display: none;\n",
              "      fill: #1967D2;\n",
              "      height: 32px;\n",
              "      padding: 0 0 0 0;\n",
              "      width: 32px;\n",
              "    }\n",
              "\n",
              "    .colab-df-convert:hover {\n",
              "      background-color: #E2EBFA;\n",
              "      box-shadow: 0px 1px 2px rgba(60, 64, 67, 0.3), 0px 1px 3px 1px rgba(60, 64, 67, 0.15);\n",
              "      fill: #174EA6;\n",
              "    }\n",
              "\n",
              "    [theme=dark] .colab-df-convert {\n",
              "      background-color: #3B4455;\n",
              "      fill: #D2E3FC;\n",
              "    }\n",
              "\n",
              "    [theme=dark] .colab-df-convert:hover {\n",
              "      background-color: #434B5C;\n",
              "      box-shadow: 0px 1px 3px 1px rgba(0, 0, 0, 0.15);\n",
              "      filter: drop-shadow(0px 1px 2px rgba(0, 0, 0, 0.3));\n",
              "      fill: #FFFFFF;\n",
              "    }\n",
              "  </style>\n",
              "\n",
              "      <script>\n",
              "        const buttonEl =\n",
              "          document.querySelector('#df-92e6b451-2f8f-4b46-a500-b1a2d358b12c button.colab-df-convert');\n",
              "        buttonEl.style.display =\n",
              "          google.colab.kernel.accessAllowed ? 'block' : 'none';\n",
              "\n",
              "        async function convertToInteractive(key) {\n",
              "          const element = document.querySelector('#df-92e6b451-2f8f-4b46-a500-b1a2d358b12c');\n",
              "          const dataTable =\n",
              "            await google.colab.kernel.invokeFunction('convertToInteractive',\n",
              "                                                     [key], {});\n",
              "          if (!dataTable) return;\n",
              "\n",
              "          const docLinkHtml = 'Like what you see? Visit the ' +\n",
              "            '<a target=\"_blank\" href=https://colab.research.google.com/notebooks/data_table.ipynb>data table notebook</a>'\n",
              "            + ' to learn more about interactive tables.';\n",
              "          element.innerHTML = '';\n",
              "          dataTable['output_type'] = 'display_data';\n",
              "          await google.colab.output.renderOutput(dataTable, element);\n",
              "          const docLink = document.createElement('div');\n",
              "          docLink.innerHTML = docLinkHtml;\n",
              "          element.appendChild(docLink);\n",
              "        }\n",
              "      </script>\n",
              "    </div>\n",
              "  </div>\n",
              "  "
            ]
          },
          "metadata": {},
          "execution_count": 43
        }
      ],
      "source": [
        "df"
      ]
    }
  ],
  "metadata": {
    "colab": {
      "provenance": []
    },
    "kernelspec": {
      "display_name": "Python 3",
      "name": "python3"
    },
    "language_info": {
      "name": "python"
    }
  },
  "nbformat": 4,
  "nbformat_minor": 0
}
