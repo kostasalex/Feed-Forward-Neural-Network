{
  "nbformat": 4,
  "nbformat_minor": 0,
  "metadata": {
    "colab": {
      "provenance": []
    },
    "kernelspec": {
      "name": "python3",
      "display_name": "Python 3"
    },
    "language_info": {
      "name": "python"
    }
  },
  "cells": [
    {
      "cell_type": "markdown",
      "source": [
        "# Feedforward neural network "
      ],
      "metadata": {
        "id": "H2gxrj1NTfYU"
      }
    },
    {
      "cell_type": "code",
      "execution_count": 10,
      "metadata": {
        "colab": {
          "base_uri": "https://localhost:8080/"
        },
        "id": "6dgG1EMi1obn",
        "outputId": "b891738c-a658-4c3d-dfbb-20aafb05c478"
      },
      "outputs": [
        {
          "output_type": "stream",
          "name": "stdout",
          "text": [
            "Drive already mounted at /content/drive; to attempt to forcibly remount, call drive.mount(\"/content/drive\", force_remount=True).\n"
          ]
        }
      ],
      "source": [
        "import io\n",
        "import re\n",
        "import nltk\n",
        "import pickle\n",
        "import pandas as pd\n",
        "import numpy as np\n",
        "from google.colab import drive\n",
        "drive.mount('/content/drive')"
      ]
    },
    {
      "cell_type": "markdown",
      "source": [
        "##Load and prepare the pre-processed data\n",
        "---\n",
        "\n",
        "\n"
      ],
      "metadata": {
        "id": "450E-dIk9NCP"
      }
    },
    {
      "cell_type": "markdown",
      "source": [
        "\n",
        "###Load\n",
        "> The dataset is loaded from a pickle file containing the pre-processed data. The dataset contains two columns: \"label\", which is a 0-1 representation of the sentiment (positive or negative) and \"embeddings\" which is a vectorized representation of the text using pre-trained Glove vectors."
      ],
      "metadata": {
        "id": "1ksIu8A2Zuw2"
      }
    },
    {
      "cell_type": "code",
      "source": [
        "with open('/content/drive/My Drive/data/pre_data.pkl', 'rb') as f:\n",
        "    df= pickle.load(f)"
      ],
      "metadata": {
        "id": "7Hqbn7XG-TdE"
      },
      "execution_count": 18,
      "outputs": []
    },
    {
      "cell_type": "markdown",
      "source": [
        "###Prepare the data for the model\n"
      ],
      "metadata": {
        "id": "iQEn8yoIZbFd"
      }
    },
    {
      "cell_type": "code",
      "source": [
        "from sklearn.model_selection import train_test_split\n",
        "import torch\n",
        "import torch.nn as nn\n",
        "import torch.optim as optim\n",
        "\n",
        "#The given data has \"positive\"/\"negative\" lable for each review\n",
        "label_map = {\"positive\": 1, \"negative\": 0}\n",
        "\n",
        "X = df['text'] \n",
        "X = [[float(x) for x in element] for element in X]\n",
        "y = [label_map[label] for label in df['label']]\n",
        "\n",
        "#Split the dataset into training and test sets\n",
        "X_train, X_test, y_train, y_test = train_test_split(X, y, test_size=0.2, random_state=42)\n",
        "\n",
        "#Split the training set further into training and validation sets\n",
        "X_train, X_val, y_train, y_val = train_test_split(X_train, y_train, test_size=0.2, random_state=42)\n",
        "\n",
        "#Convert the input data to a tensor\n",
        "X_train = torch.tensor(X_train)\n",
        "X_val = torch.tensor(X_val)\n",
        "X_test = torch.tensor(X_test)\n",
        "\n",
        "#Convert the labels to a tensor\n",
        "y_train = torch.tensor(y_train)\n",
        "y_val = torch.tensor(y_val)\n",
        "y_test = torch.tensor(y_test)\n"
      ],
      "metadata": {
        "id": "ZB9jlQpraLUg"
      },
      "execution_count": 19,
      "outputs": []
    },
    {
      "cell_type": "markdown",
      "source": [
        "##Create the feedforward neural network (FFNN) "
      ],
      "metadata": {
        "id": "fQgy9uD45vLH"
      }
    },
    {
      "cell_type": "code",
      "source": [
        "\n",
        "import torch.nn as nn\n",
        "import torch.optim as optim\n",
        "\n",
        "class FeedforwardNet(nn.Module):\n",
        "  def __init__(self, input_size, hidden_size, output_size):\n",
        "    super().__init__()\n",
        "    self.fc1 = nn.Linear(input_size, hidden_size)\n",
        "    self.fc2 = nn.Linear(hidden_size, output_size)\n",
        "    self.relu = nn.ReLU()\n",
        "    self.sigmoid = nn.Sigmoid()\n",
        "    \n",
        "  def forward(self, x):\n",
        "    x = self.fc1(x)\n",
        "    x = self.relu(x)\n",
        "    x = self.fc2(x)\n",
        "    x = self.sigmoid(x)\n",
        "    return x"
      ],
      "metadata": {
        "id": "6v8wIh15E4Bi"
      },
      "execution_count": 26,
      "outputs": []
    },
    {
      "cell_type": "markdown",
      "source": [],
      "metadata": {
        "id": "uQInZRy3hhcg"
      }
    },
    {
      "cell_type": "markdown",
      "source": [
        "## Initialize the FFNN"
      ],
      "metadata": {
        "id": "IEmQaMH4_iFj"
      }
    },
    {
      "cell_type": "code",
      "source": [
        "input_size = 50  \n",
        "hidden_size = 64\n",
        "output_size = 1  #binary classification (negative/positive)\n",
        "model = FeedforwardNet(input_size, hidden_size, output_size)\n",
        "\n",
        "#Define the loss function and optimizer\n",
        "#loss_fn = nn.BCEWithLogitsLoss()\n",
        "loss_fn = nn.BCELoss()\n",
        "#Use stochastic gradient descent as the optimizer\n",
        "#optimizer = optim.SGD(model.parameters(), lr=0.01)  \n",
        "optimizer = optim.Adam(model.parameters(),lr=1e-4,weight_decay=1e-4)\n",
        "\n",
        "num_epochs = 10\n",
        "\n",
        "model.train()\n",
        "\n",
        "# Create a DataLoader for the training set\n",
        "train_loader = torch.utils.data.DataLoader(\n",
        "    torch.utils.data.TensorDataset(X_train, y_train),\n",
        "    batch_size=100,\n",
        "    shuffle=True\n",
        ")"
      ],
      "metadata": {
        "id": "QAB4eCxO_kjR"
      },
      "execution_count": 30,
      "outputs": []
    },
    {
      "cell_type": "markdown",
      "source": [
        "##Train the model\n"
      ],
      "metadata": {
        "id": "wg0rkTir7YFd"
      }
    },
    {
      "cell_type": "code",
      "source": [
        "# Initialize the best F1 score to 0\n",
        "from sklearn.metrics import f1_score\n",
        "\n",
        "best_f1 = 0\n",
        "\n",
        "train_losses = []\n",
        "val_losses = []\n",
        "f1_scores = []\n",
        "\n",
        "#Training loop\n",
        "for epoch in range(num_epochs):\n",
        "  epoch_loss = 0\n",
        "  \n",
        "  #Loop over the training data\n",
        "  for i, (x, y) in enumerate(train_loader):\n",
        "    #Convert the input data and labels to tensors\n",
        "    x = torch.tensor(x).float()\n",
        "    y = torch.tensor(y).float()\n",
        "    \n",
        "    #Forward pass\n",
        "    logits = model(x)\n",
        "    logits = logits.squeeze()\n",
        "    y = y.squeeze()\n",
        "    loss = loss_fn(logits, y)\n",
        "    \n",
        "    #Backward pass and optimization\n",
        "    optimizer.zero_grad()\n",
        "    loss.backward()\n",
        "    optimizer.step()\n",
        "    \n",
        "    #Add the loss for the batch to the epoch loss\n",
        "    epoch_loss += loss.item()\n",
        "  \n",
        "  #Calculate the average loss for the epoch\n",
        "  epoch_loss /= len(X_train)\n",
        "  train_losses.append(epoch_loss)\n",
        "  print(\"Epoch:\", epoch+1, \"Loss:\", epoch_loss)\n",
        "  \n",
        "  #Calculate the F1 score on the validation set\n",
        "  with torch.no_grad():\n",
        "    # Get the predictions\n",
        "    logits = model(X_val)\n",
        "    preds = (logits > 0).long()\n",
        "    \n",
        "    #Calculate the F1 score\n",
        "    f1 = f1_score(y_val, preds)\n",
        "\n",
        "    f1_scores.append(f1)\n",
        "    print(f1)\n",
        "    #Save the model if it is the best so far\n",
        "    if f1 > best_f1:\n",
        "      best_f1 = f1\n",
        "      torch.save(model.state_dict(), \"best_model.pt\")"
      ],
      "metadata": {
        "id": "5K4iTvve7Xu6"
      },
      "execution_count": null,
      "outputs": []
    },
    {
      "cell_type": "code",
      "source": [
        "import matplotlib.pyplot as plt\n",
        "#Plot the training and validation losses\n",
        "plt.plot(train_losses, label=\"Training loss\")\n",
        "plt.legend()\n",
        "plt.show()"
      ],
      "metadata": {
        "colab": {
          "base_uri": "https://localhost:8080/",
          "height": 265
        },
        "id": "jYd8eOOWHtM3",
        "outputId": "8400868e-2081-4a5d-e965-91e9f1f1b18c"
      },
      "execution_count": 32,
      "outputs": [
        {
          "output_type": "display_data",
          "data": {
            "text/plain": [
              "<Figure size 432x288 with 1 Axes>"
            ],
            "image/png": "[encoded data removed]"
          },
          "metadata": {
            "needs_background": "light"
          }
        }
      ]
    }
  ]
}